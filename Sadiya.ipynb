{
 "cells": [
  {
   "cell_type": "code",
   "execution_count": 52,
   "id": "fc0a7579-24bd-484d-9047-660961553834",
   "metadata": {},
   "outputs": [],
   "source": [
    "import requests\n",
    "baseurl = \"https://rickandmortyapi.com/api/\"\n",
    "endpoint = 'character'"
   ]
  },
  {
   "cell_type": "code",
   "execution_count": 53,
   "id": "d3926162-cf8c-4df1-8aa6-4126a9ed5830",
   "metadata": {},
   "outputs": [],
   "source": [
    "r = requests.get(baseurl+endpoint)"
   ]
  },
  {
   "cell_type": "code",
   "execution_count": 54,
   "id": "cc1b5ad1-7730-48be-b6db-8cabb0eeb6c2",
   "metadata": {},
   "outputs": [
    {
     "name": "stdout",
     "output_type": "stream",
     "text": [
      "<Response [200]>\n"
     ]
    }
   ],
   "source": [
    "print(r)"
   ]
  },
  {
   "cell_type": "code",
   "execution_count": 55,
   "id": "21aa1840-75c3-4bf1-957a-44a8b2943cdb",
   "metadata": {},
   "outputs": [],
   "source": [
    "data = r.json()"
   ]
  },
  {
   "cell_type": "code",
   "execution_count": 56,
   "id": "3b14878d-eba8-4db1-8785-3595c5a41e11",
   "metadata": {},
   "outputs": [
    {
     "name": "stdout",
     "output_type": "stream",
     "text": [
      "{'count': 826, 'pages': 42, 'next': 'https://rickandmortyapi.com/api/character?page=2', 'prev': None}\n"
     ]
    }
   ],
   "source": [
    "print (data['info'])"
   ]
  },
  {
   "cell_type": "code",
   "execution_count": 57,
   "id": "e56dcbef-26d6-4da4-84fb-77f1476c75ef",
   "metadata": {},
   "outputs": [
    {
     "name": "stdout",
     "output_type": "stream",
     "text": [
      "{'info': {'count': 826, 'pages': 42, 'next': 'https://rickandmortyapi.com/api/character?page=2', 'prev': None}, 'results': [{'id': 1, 'name': 'Rick Sanchez', 'status': 'Alive', 'species': 'Human', 'type': '', 'gender': 'Male', 'origin': {'name': 'Earth (C-137)', 'url': 'https://rickandmortyapi.com/api/location/1'}, 'location': {'name': 'Citadel of Ricks', 'url': 'https://rickandmortyapi.com/api/location/3'}, 'image': 'https://rickandmortyapi.com/api/character/avatar/1.jpeg', 'episode': ['https://rickandmortyapi.com/api/episode/1', 'https://rickandmortyapi.com/api/episode/2', 'https://rickandmortyapi.com/api/episode/3', 'https://rickandmortyapi.com/api/episode/4', 'https://rickandmortyapi.com/api/episode/5', 'https://rickandmortyapi.com/api/episode/6', 'https://rickandmortyapi.com/api/episode/7', 'https://rickandmortyapi.com/api/episode/8', 'https://rickandmortyapi.com/api/episode/9', 'https://rickandmortyapi.com/api/episode/10', 'https://rickandmortyapi.com/api/episode/11', 'https://rickandmortyapi.com/api/episode/12', 'https://rickandmortyapi.com/api/episode/13', 'https://rickandmortyapi.com/api/episode/14', 'https://rickandmortyapi.com/api/episode/15', 'https://rickandmortyapi.com/api/episode/16', 'https://rickandmortyapi.com/api/episode/17', 'https://rickandmortyapi.com/api/episode/18', 'https://rickandmortyapi.com/api/episode/19', 'https://rickandmortyapi.com/api/episode/20', 'https://rickandmortyapi.com/api/episode/21', 'https://rickandmortyapi.com/api/episode/22', 'https://rickandmortyapi.com/api/episode/23', 'https://rickandmortyapi.com/api/episode/24', 'https://rickandmortyapi.com/api/episode/25', 'https://rickandmortyapi.com/api/episode/26', 'https://rickandmortyapi.com/api/episode/27', 'https://rickandmortyapi.com/api/episode/28', 'https://rickandmortyapi.com/api/episode/29', 'https://rickandmortyapi.com/api/episode/30', 'https://rickandmortyapi.com/api/episode/31', 'https://rickandmortyapi.com/api/episode/32', 'https://rickandmortyapi.com/api/episode/33', 'https://rickandmortyapi.com/api/episode/34', 'https://rickandmortyapi.com/api/episode/35', 'https://rickandmortyapi.com/api/episode/36', 'https://rickandmortyapi.com/api/episode/37', 'https://rickandmortyapi.com/api/episode/38', 'https://rickandmortyapi.com/api/episode/39', 'https://rickandmortyapi.com/api/episode/40', 'https://rickandmortyapi.com/api/episode/41', 'https://rickandmortyapi.com/api/episode/42', 'https://rickandmortyapi.com/api/episode/43', 'https://rickandmortyapi.com/api/episode/44', 'https://rickandmortyapi.com/api/episode/45', 'https://rickandmortyapi.com/api/episode/46', 'https://rickandmortyapi.com/api/episode/47', 'https://rickandmortyapi.com/api/episode/48', 'https://rickandmortyapi.com/api/episode/49', 'https://rickandmortyapi.com/api/episode/50', 'https://rickandmortyapi.com/api/episode/51'], 'url': 'https://rickandmortyapi.com/api/character/1', 'created': '2017-11-04T18:48:46.250Z'}, {'id': 2, 'name': 'Morty Smith', 'status': 'Alive', 'species': 'Human', 'type': '', 'gender': 'Male', 'origin': {'name': 'unknown', 'url': ''}, 'location': {'name': 'Citadel of Ricks', 'url': 'https://rickandmortyapi.com/api/location/3'}, 'image': 'https://rickandmortyapi.com/api/character/avatar/2.jpeg', 'episode': ['https://rickandmortyapi.com/api/episode/1', 'https://rickandmortyapi.com/api/episode/2', 'https://rickandmortyapi.com/api/episode/3', 'https://rickandmortyapi.com/api/episode/4', 'https://rickandmortyapi.com/api/episode/5', 'https://rickandmortyapi.com/api/episode/6', 'https://rickandmortyapi.com/api/episode/7', 'https://rickandmortyapi.com/api/episode/8', 'https://rickandmortyapi.com/api/episode/9', 'https://rickandmortyapi.com/api/episode/10', 'https://rickandmortyapi.com/api/episode/11', 'https://rickandmortyapi.com/api/episode/12', 'https://rickandmortyapi.com/api/episode/13', 'https://rickandmortyapi.com/api/episode/14', 'https://rickandmortyapi.com/api/episode/15', 'https://rickandmortyapi.com/api/episode/16', 'https://rickandmortyapi.com/api/episode/17', 'https://rickandmortyapi.com/api/episode/18', 'https://rickandmortyapi.com/api/episode/19', 'https://rickandmortyapi.com/api/episode/20', 'https://rickandmortyapi.com/api/episode/21', 'https://rickandmortyapi.com/api/episode/22', 'https://rickandmortyapi.com/api/episode/23', 'https://rickandmortyapi.com/api/episode/24', 'https://rickandmortyapi.com/api/episode/25', 'https://rickandmortyapi.com/api/episode/26', 'https://rickandmortyapi.com/api/episode/27', 'https://rickandmortyapi.com/api/episode/28', 'https://rickandmortyapi.com/api/episode/29', 'https://rickandmortyapi.com/api/episode/30', 'https://rickandmortyapi.com/api/episode/31', 'https://rickandmortyapi.com/api/episode/32', 'https://rickandmortyapi.com/api/episode/33', 'https://rickandmortyapi.com/api/episode/34', 'https://rickandmortyapi.com/api/episode/35', 'https://rickandmortyapi.com/api/episode/36', 'https://rickandmortyapi.com/api/episode/37', 'https://rickandmortyapi.com/api/episode/38', 'https://rickandmortyapi.com/api/episode/39', 'https://rickandmortyapi.com/api/episode/40', 'https://rickandmortyapi.com/api/episode/41', 'https://rickandmortyapi.com/api/episode/42', 'https://rickandmortyapi.com/api/episode/43', 'https://rickandmortyapi.com/api/episode/44', 'https://rickandmortyapi.com/api/episode/45', 'https://rickandmortyapi.com/api/episode/46', 'https://rickandmortyapi.com/api/episode/47', 'https://rickandmortyapi.com/api/episode/48', 'https://rickandmortyapi.com/api/episode/49', 'https://rickandmortyapi.com/api/episode/50', 'https://rickandmortyapi.com/api/episode/51'], 'url': 'https://rickandmortyapi.com/api/character/2', 'created': '2017-11-04T18:50:21.651Z'}, {'id': 3, 'name': 'Summer Smith', 'status': 'Alive', 'species': 'Human', 'type': '', 'gender': 'Female', 'origin': {'name': 'Earth (Replacement Dimension)', 'url': 'https://rickandmortyapi.com/api/location/20'}, 'location': {'name': 'Earth (Replacement Dimension)', 'url': 'https://rickandmortyapi.com/api/location/20'}, 'image': 'https://rickandmortyapi.com/api/character/avatar/3.jpeg', 'episode': ['https://rickandmortyapi.com/api/episode/6', 'https://rickandmortyapi.com/api/episode/7', 'https://rickandmortyapi.com/api/episode/8', 'https://rickandmortyapi.com/api/episode/9', 'https://rickandmortyapi.com/api/episode/10', 'https://rickandmortyapi.com/api/episode/11', 'https://rickandmortyapi.com/api/episode/12', 'https://rickandmortyapi.com/api/episode/14', 'https://rickandmortyapi.com/api/episode/15', 'https://rickandmortyapi.com/api/episode/16', 'https://rickandmortyapi.com/api/episode/17', 'https://rickandmortyapi.com/api/episode/18', 'https://rickandmortyapi.com/api/episode/19', 'https://rickandmortyapi.com/api/episode/20', 'https://rickandmortyapi.com/api/episode/21', 'https://rickandmortyapi.com/api/episode/22', 'https://rickandmortyapi.com/api/episode/23', 'https://rickandmortyapi.com/api/episode/24', 'https://rickandmortyapi.com/api/episode/25', 'https://rickandmortyapi.com/api/episode/26', 'https://rickandmortyapi.com/api/episode/27', 'https://rickandmortyapi.com/api/episode/29', 'https://rickandmortyapi.com/api/episode/30', 'https://rickandmortyapi.com/api/episode/31', 'https://rickandmortyapi.com/api/episode/32', 'https://rickandmortyapi.com/api/episode/33', 'https://rickandmortyapi.com/api/episode/34', 'https://rickandmortyapi.com/api/episode/35', 'https://rickandmortyapi.com/api/episode/36', 'https://rickandmortyapi.com/api/episode/38', 'https://rickandmortyapi.com/api/episode/39', 'https://rickandmortyapi.com/api/episode/40', 'https://rickandmortyapi.com/api/episode/41', 'https://rickandmortyapi.com/api/episode/42', 'https://rickandmortyapi.com/api/episode/43', 'https://rickandmortyapi.com/api/episode/44', 'https://rickandmortyapi.com/api/episode/45', 'https://rickandmortyapi.com/api/episode/46', 'https://rickandmortyapi.com/api/episode/47', 'https://rickandmortyapi.com/api/episode/48', 'https://rickandmortyapi.com/api/episode/49', 'https://rickandmortyapi.com/api/episode/51'], 'url': 'https://rickandmortyapi.com/api/character/3', 'created': '2017-11-04T19:09:56.428Z'}, {'id': 4, 'name': 'Beth Smith', 'status': 'Alive', 'species': 'Human', 'type': '', 'gender': 'Female', 'origin': {'name': 'Earth (Replacement Dimension)', 'url': 'https://rickandmortyapi.com/api/location/20'}, 'location': {'name': 'Earth (Replacement Dimension)', 'url': 'https://rickandmortyapi.com/api/location/20'}, 'image': 'https://rickandmortyapi.com/api/character/avatar/4.jpeg', 'episode': ['https://rickandmortyapi.com/api/episode/6', 'https://rickandmortyapi.com/api/episode/7', 'https://rickandmortyapi.com/api/episode/8', 'https://rickandmortyapi.com/api/episode/9', 'https://rickandmortyapi.com/api/episode/10', 'https://rickandmortyapi.com/api/episode/11', 'https://rickandmortyapi.com/api/episode/12', 'https://rickandmortyapi.com/api/episode/14', 'https://rickandmortyapi.com/api/episode/15', 'https://rickandmortyapi.com/api/episode/16', 'https://rickandmortyapi.com/api/episode/18', 'https://rickandmortyapi.com/api/episode/19', 'https://rickandmortyapi.com/api/episode/20', 'https://rickandmortyapi.com/api/episode/21', 'https://rickandmortyapi.com/api/episode/22', 'https://rickandmortyapi.com/api/episode/23', 'https://rickandmortyapi.com/api/episode/24', 'https://rickandmortyapi.com/api/episode/25', 'https://rickandmortyapi.com/api/episode/26', 'https://rickandmortyapi.com/api/episode/27', 'https://rickandmortyapi.com/api/episode/28', 'https://rickandmortyapi.com/api/episode/29', 'https://rickandmortyapi.com/api/episode/30', 'https://rickandmortyapi.com/api/episode/31', 'https://rickandmortyapi.com/api/episode/32', 'https://rickandmortyapi.com/api/episode/33', 'https://rickandmortyapi.com/api/episode/34', 'https://rickandmortyapi.com/api/episode/35', 'https://rickandmortyapi.com/api/episode/36', 'https://rickandmortyapi.com/api/episode/38', 'https://rickandmortyapi.com/api/episode/39', 'https://rickandmortyapi.com/api/episode/40', 'https://rickandmortyapi.com/api/episode/41', 'https://rickandmortyapi.com/api/episode/42', 'https://rickandmortyapi.com/api/episode/43', 'https://rickandmortyapi.com/api/episode/44', 'https://rickandmortyapi.com/api/episode/45', 'https://rickandmortyapi.com/api/episode/46', 'https://rickandmortyapi.com/api/episode/47', 'https://rickandmortyapi.com/api/episode/48', 'https://rickandmortyapi.com/api/episode/49', 'https://rickandmortyapi.com/api/episode/51'], 'url': 'https://rickandmortyapi.com/api/character/4', 'created': '2017-11-04T19:22:43.665Z'}, {'id': 5, 'name': 'Jerry Smith', 'status': 'Alive', 'species': 'Human', 'type': '', 'gender': 'Male', 'origin': {'name': 'Earth (Replacement Dimension)', 'url': 'https://rickandmortyapi.com/api/location/20'}, 'location': {'name': 'Earth (Replacement Dimension)', 'url': 'https://rickandmortyapi.com/api/location/20'}, 'image': 'https://rickandmortyapi.com/api/character/avatar/5.jpeg', 'episode': ['https://rickandmortyapi.com/api/episode/6', 'https://rickandmortyapi.com/api/episode/7', 'https://rickandmortyapi.com/api/episode/8', 'https://rickandmortyapi.com/api/episode/9', 'https://rickandmortyapi.com/api/episode/10', 'https://rickandmortyapi.com/api/episode/11', 'https://rickandmortyapi.com/api/episode/12', 'https://rickandmortyapi.com/api/episode/13', 'https://rickandmortyapi.com/api/episode/14', 'https://rickandmortyapi.com/api/episode/15', 'https://rickandmortyapi.com/api/episode/16', 'https://rickandmortyapi.com/api/episode/18', 'https://rickandmortyapi.com/api/episode/19', 'https://rickandmortyapi.com/api/episode/20', 'https://rickandmortyapi.com/api/episode/21', 'https://rickandmortyapi.com/api/episode/22', 'https://rickandmortyapi.com/api/episode/23', 'https://rickandmortyapi.com/api/episode/26', 'https://rickandmortyapi.com/api/episode/29', 'https://rickandmortyapi.com/api/episode/30', 'https://rickandmortyapi.com/api/episode/31', 'https://rickandmortyapi.com/api/episode/32', 'https://rickandmortyapi.com/api/episode/33', 'https://rickandmortyapi.com/api/episode/35', 'https://rickandmortyapi.com/api/episode/36', 'https://rickandmortyapi.com/api/episode/38', 'https://rickandmortyapi.com/api/episode/39', 'https://rickandmortyapi.com/api/episode/40', 'https://rickandmortyapi.com/api/episode/41', 'https://rickandmortyapi.com/api/episode/42', 'https://rickandmortyapi.com/api/episode/43', 'https://rickandmortyapi.com/api/episode/44', 'https://rickandmortyapi.com/api/episode/45', 'https://rickandmortyapi.com/api/episode/46', 'https://rickandmortyapi.com/api/episode/47', 'https://rickandmortyapi.com/api/episode/48', 'https://rickandmortyapi.com/api/episode/49', 'https://rickandmortyapi.com/api/episode/50', 'https://rickandmortyapi.com/api/episode/51'], 'url': 'https://rickandmortyapi.com/api/character/5', 'created': '2017-11-04T19:26:56.301Z'}, {'id': 6, 'name': 'Abadango Cluster Princess', 'status': 'Alive', 'species': 'Alien', 'type': '', 'gender': 'Female', 'origin': {'name': 'Abadango', 'url': 'https://rickandmortyapi.com/api/location/2'}, 'location': {'name': 'Abadango', 'url': 'https://rickandmortyapi.com/api/location/2'}, 'image': 'https://rickandmortyapi.com/api/character/avatar/6.jpeg', 'episode': ['https://rickandmortyapi.com/api/episode/27'], 'url': 'https://rickandmortyapi.com/api/character/6', 'created': '2017-11-04T19:50:28.250Z'}, {'id': 7, 'name': 'Abradolf Lincler', 'status': 'unknown', 'species': 'Human', 'type': 'Genetic experiment', 'gender': 'Male', 'origin': {'name': 'Earth (Replacement Dimension)', 'url': 'https://rickandmortyapi.com/api/location/20'}, 'location': {'name': 'Testicle Monster Dimension', 'url': 'https://rickandmortyapi.com/api/location/21'}, 'image': 'https://rickandmortyapi.com/api/character/avatar/7.jpeg', 'episode': ['https://rickandmortyapi.com/api/episode/10', 'https://rickandmortyapi.com/api/episode/11'], 'url': 'https://rickandmortyapi.com/api/character/7', 'created': '2017-11-04T19:59:20.523Z'}, {'id': 8, 'name': 'Adjudicator Rick', 'status': 'Dead', 'species': 'Human', 'type': '', 'gender': 'Male', 'origin': {'name': 'unknown', 'url': ''}, 'location': {'name': 'Citadel of Ricks', 'url': 'https://rickandmortyapi.com/api/location/3'}, 'image': 'https://rickandmortyapi.com/api/character/avatar/8.jpeg', 'episode': ['https://rickandmortyapi.com/api/episode/28'], 'url': 'https://rickandmortyapi.com/api/character/8', 'created': '2017-11-04T20:03:34.737Z'}, {'id': 9, 'name': 'Agency Director', 'status': 'Dead', 'species': 'Human', 'type': '', 'gender': 'Male', 'origin': {'name': 'Earth (Replacement Dimension)', 'url': 'https://rickandmortyapi.com/api/location/20'}, 'location': {'name': 'Earth (Replacement Dimension)', 'url': 'https://rickandmortyapi.com/api/location/20'}, 'image': 'https://rickandmortyapi.com/api/character/avatar/9.jpeg', 'episode': ['https://rickandmortyapi.com/api/episode/24'], 'url': 'https://rickandmortyapi.com/api/character/9', 'created': '2017-11-04T20:06:54.976Z'}, {'id': 10, 'name': 'Alan Rails', 'status': 'Dead', 'species': 'Human', 'type': 'Superhuman (Ghost trains summoner)', 'gender': 'Male', 'origin': {'name': 'unknown', 'url': ''}, 'location': {'name': \"Worldender's lair\", 'url': 'https://rickandmortyapi.com/api/location/4'}, 'image': 'https://rickandmortyapi.com/api/character/avatar/10.jpeg', 'episode': ['https://rickandmortyapi.com/api/episode/25'], 'url': 'https://rickandmortyapi.com/api/character/10', 'created': '2017-11-04T20:19:09.017Z'}, {'id': 11, 'name': 'Albert Einstein', 'status': 'Dead', 'species': 'Human', 'type': '', 'gender': 'Male', 'origin': {'name': 'Earth (C-137)', 'url': 'https://rickandmortyapi.com/api/location/1'}, 'location': {'name': 'Earth (Replacement Dimension)', 'url': 'https://rickandmortyapi.com/api/location/20'}, 'image': 'https://rickandmortyapi.com/api/character/avatar/11.jpeg', 'episode': ['https://rickandmortyapi.com/api/episode/12'], 'url': 'https://rickandmortyapi.com/api/character/11', 'created': '2017-11-04T20:20:20.965Z'}, {'id': 12, 'name': 'Alexander', 'status': 'Dead', 'species': 'Human', 'type': '', 'gender': 'Male', 'origin': {'name': 'Earth (C-137)', 'url': 'https://rickandmortyapi.com/api/location/1'}, 'location': {'name': 'Anatomy Park', 'url': 'https://rickandmortyapi.com/api/location/5'}, 'image': 'https://rickandmortyapi.com/api/character/avatar/12.jpeg', 'episode': ['https://rickandmortyapi.com/api/episode/3'], 'url': 'https://rickandmortyapi.com/api/character/12', 'created': '2017-11-04T20:32:33.144Z'}, {'id': 13, 'name': 'Alien Googah', 'status': 'unknown', 'species': 'Alien', 'type': '', 'gender': 'unknown', 'origin': {'name': 'unknown', 'url': ''}, 'location': {'name': 'Earth (Replacement Dimension)', 'url': 'https://rickandmortyapi.com/api/location/20'}, 'image': 'https://rickandmortyapi.com/api/character/avatar/13.jpeg', 'episode': ['https://rickandmortyapi.com/api/episode/31'], 'url': 'https://rickandmortyapi.com/api/character/13', 'created': '2017-11-04T20:33:30.779Z'}, {'id': 14, 'name': 'Alien Morty', 'status': 'unknown', 'species': 'Alien', 'type': '', 'gender': 'Male', 'origin': {'name': 'unknown', 'url': ''}, 'location': {'name': 'Citadel of Ricks', 'url': 'https://rickandmortyapi.com/api/location/3'}, 'image': 'https://rickandmortyapi.com/api/character/avatar/14.jpeg', 'episode': ['https://rickandmortyapi.com/api/episode/10'], 'url': 'https://rickandmortyapi.com/api/character/14', 'created': '2017-11-04T20:51:31.373Z'}, {'id': 15, 'name': 'Alien Rick', 'status': 'unknown', 'species': 'Alien', 'type': '', 'gender': 'Male', 'origin': {'name': 'unknown', 'url': ''}, 'location': {'name': 'Citadel of Ricks', 'url': 'https://rickandmortyapi.com/api/location/3'}, 'image': 'https://rickandmortyapi.com/api/character/avatar/15.jpeg', 'episode': ['https://rickandmortyapi.com/api/episode/10'], 'url': 'https://rickandmortyapi.com/api/character/15', 'created': '2017-11-04T20:56:13.215Z'}, {'id': 16, 'name': 'Amish Cyborg', 'status': 'Dead', 'species': 'Alien', 'type': 'Parasite', 'gender': 'Male', 'origin': {'name': 'unknown', 'url': ''}, 'location': {'name': 'Earth (Replacement Dimension)', 'url': 'https://rickandmortyapi.com/api/location/20'}, 'image': 'https://rickandmortyapi.com/api/character/avatar/16.jpeg', 'episode': ['https://rickandmortyapi.com/api/episode/15'], 'url': 'https://rickandmortyapi.com/api/character/16', 'created': '2017-11-04T21:12:45.235Z'}, {'id': 17, 'name': 'Annie', 'status': 'Alive', 'species': 'Human', 'type': '', 'gender': 'Female', 'origin': {'name': 'Earth (C-137)', 'url': 'https://rickandmortyapi.com/api/location/1'}, 'location': {'name': 'Anatomy Park', 'url': 'https://rickandmortyapi.com/api/location/5'}, 'image': 'https://rickandmortyapi.com/api/character/avatar/17.jpeg', 'episode': ['https://rickandmortyapi.com/api/episode/3'], 'url': 'https://rickandmortyapi.com/api/character/17', 'created': '2017-11-04T22:21:24.481Z'}, {'id': 18, 'name': 'Antenna Morty', 'status': 'Alive', 'species': 'Human', 'type': 'Human with antennae', 'gender': 'Male', 'origin': {'name': 'unknown', 'url': ''}, 'location': {'name': 'Citadel of Ricks', 'url': 'https://rickandmortyapi.com/api/location/3'}, 'image': 'https://rickandmortyapi.com/api/character/avatar/18.jpeg', 'episode': ['https://rickandmortyapi.com/api/episode/10', 'https://rickandmortyapi.com/api/episode/28'], 'url': 'https://rickandmortyapi.com/api/character/18', 'created': '2017-11-04T22:25:29.008Z'}, {'id': 19, 'name': 'Antenna Rick', 'status': 'unknown', 'species': 'Human', 'type': 'Human with antennae', 'gender': 'Male', 'origin': {'name': 'unknown', 'url': ''}, 'location': {'name': 'unknown', 'url': ''}, 'image': 'https://rickandmortyapi.com/api/character/avatar/19.jpeg', 'episode': ['https://rickandmortyapi.com/api/episode/10'], 'url': 'https://rickandmortyapi.com/api/character/19', 'created': '2017-11-04T22:28:13.756Z'}, {'id': 20, 'name': 'Ants in my Eyes Johnson', 'status': 'unknown', 'species': 'Human', 'type': 'Human with ants in his eyes', 'gender': 'Male', 'origin': {'name': 'unknown', 'url': ''}, 'location': {'name': 'Interdimensional Cable', 'url': 'https://rickandmortyapi.com/api/location/6'}, 'image': 'https://rickandmortyapi.com/api/character/avatar/20.jpeg', 'episode': ['https://rickandmortyapi.com/api/episode/8'], 'url': 'https://rickandmortyapi.com/api/character/20', 'created': '2017-11-04T22:34:53.659Z'}]}\n"
     ]
    }
   ],
   "source": [
    "print (data)"
   ]
  },
  {
   "cell_type": "code",
   "execution_count": 58,
   "id": "ea55833c-be41-473f-9987-7cc34e6bb691",
   "metadata": {},
   "outputs": [
    {
     "name": "stdout",
     "output_type": "stream",
     "text": [
      "['https://rickandmortyapi.com/api/episode/1', 'https://rickandmortyapi.com/api/episode/2', 'https://rickandmortyapi.com/api/episode/3', 'https://rickandmortyapi.com/api/episode/4', 'https://rickandmortyapi.com/api/episode/5', 'https://rickandmortyapi.com/api/episode/6', 'https://rickandmortyapi.com/api/episode/7', 'https://rickandmortyapi.com/api/episode/8', 'https://rickandmortyapi.com/api/episode/9', 'https://rickandmortyapi.com/api/episode/10', 'https://rickandmortyapi.com/api/episode/11', 'https://rickandmortyapi.com/api/episode/12', 'https://rickandmortyapi.com/api/episode/13', 'https://rickandmortyapi.com/api/episode/14', 'https://rickandmortyapi.com/api/episode/15', 'https://rickandmortyapi.com/api/episode/16', 'https://rickandmortyapi.com/api/episode/17', 'https://rickandmortyapi.com/api/episode/18', 'https://rickandmortyapi.com/api/episode/19', 'https://rickandmortyapi.com/api/episode/20', 'https://rickandmortyapi.com/api/episode/21', 'https://rickandmortyapi.com/api/episode/22', 'https://rickandmortyapi.com/api/episode/23', 'https://rickandmortyapi.com/api/episode/24', 'https://rickandmortyapi.com/api/episode/25', 'https://rickandmortyapi.com/api/episode/26', 'https://rickandmortyapi.com/api/episode/27', 'https://rickandmortyapi.com/api/episode/28', 'https://rickandmortyapi.com/api/episode/29', 'https://rickandmortyapi.com/api/episode/30', 'https://rickandmortyapi.com/api/episode/31', 'https://rickandmortyapi.com/api/episode/32', 'https://rickandmortyapi.com/api/episode/33', 'https://rickandmortyapi.com/api/episode/34', 'https://rickandmortyapi.com/api/episode/35', 'https://rickandmortyapi.com/api/episode/36', 'https://rickandmortyapi.com/api/episode/37', 'https://rickandmortyapi.com/api/episode/38', 'https://rickandmortyapi.com/api/episode/39', 'https://rickandmortyapi.com/api/episode/40', 'https://rickandmortyapi.com/api/episode/41', 'https://rickandmortyapi.com/api/episode/42', 'https://rickandmortyapi.com/api/episode/43', 'https://rickandmortyapi.com/api/episode/44', 'https://rickandmortyapi.com/api/episode/45', 'https://rickandmortyapi.com/api/episode/46', 'https://rickandmortyapi.com/api/episode/47', 'https://rickandmortyapi.com/api/episode/48', 'https://rickandmortyapi.com/api/episode/49', 'https://rickandmortyapi.com/api/episode/50', 'https://rickandmortyapi.com/api/episode/51']\n"
     ]
    }
   ],
   "source": [
    "episode = data['results'][0]['episode']\n",
    "print(episode)"
   ]
  },
  {
   "cell_type": "code",
   "execution_count": 59,
   "id": "5bca1a62-c2d6-449e-900e-2ee7fb8ff63a",
   "metadata": {},
   "outputs": [
    {
     "name": "stdout",
     "output_type": "stream",
     "text": [
      "{'Access-Control-Allow-Origin': '*', 'Age': '0', 'Cache-Control': 'max-age=259200, public', 'Content-Encoding': 'br', 'Content-Type': 'application/json; charset=utf-8', 'Date': 'Sat, 05 Nov 2022 00:53:54 GMT', 'Etag': 'W/\"4c28-8Xn6OSgPYZqE/r+q8L2TTeK0Efo\"', 'Expires': 'Tue, 08 Nov 2022 00:53:54 GMT', 'Server': 'Netlify', 'Strict-Transport-Security': 'max-age=31536000', 'Vary': 'Accept-Encoding', 'X-Nf-Request-Id': '01GH2MF9FFX1ZQ548JVY2EFJX7', 'X-Powered-By': 'Express', 'Transfer-Encoding': 'chunked'}\n"
     ]
    }
   ],
   "source": [
    "print(r.headers)"
   ]
  },
  {
   "cell_type": "code",
   "execution_count": 60,
   "id": "b8d595e4-875f-49c0-8792-5c542374934e",
   "metadata": {},
   "outputs": [
    {
     "name": "stdout",
     "output_type": "stream",
     "text": [
      "51\n"
     ]
    }
   ],
   "source": [
    "print(len(episode))"
   ]
  },
  {
   "cell_type": "code",
   "execution_count": 61,
   "id": "52554d97-195f-43c0-bcef-070c12cd0f81",
   "metadata": {},
   "outputs": [],
   "source": [
    "name = data['results'][0]['name']"
   ]
  },
  {
   "cell_type": "code",
   "execution_count": 62,
   "id": "23a74ed0-9181-42a4-9105-82cbf1847a44",
   "metadata": {},
   "outputs": [
    {
     "name": "stdout",
     "output_type": "stream",
     "text": [
      "12\n"
     ]
    }
   ],
   "source": [
    "print(len(name))"
   ]
  },
  {
   "cell_type": "code",
   "execution_count": null,
   "id": "c1803877-3481-419c-ba8d-123c94c53338",
   "metadata": {},
   "outputs": [],
   "source": []
  },
  {
   "cell_type": "code",
   "execution_count": 63,
   "id": "8f4ee3bd-e98f-4772-aa9e-7ba0aa752b69",
   "metadata": {},
   "outputs": [],
   "source": [
    "def parse_json(response):\n",
    "    for item in response['results']:\n",
    "        print(item['name'],len(item['episode']))\n",
    "    return                               \n",
    "   "
   ]
  },
  {
   "cell_type": "code",
   "execution_count": 64,
   "id": "2fbfe8e2-0aa6-48c2-81e7-468636cb5567",
   "metadata": {},
   "outputs": [
    {
     "name": "stdout",
     "output_type": "stream",
     "text": [
      "Rick Sanchez 51\n",
      "Morty Smith 51\n",
      "Summer Smith 42\n",
      "Beth Smith 42\n",
      "Jerry Smith 39\n",
      "Abadango Cluster Princess 1\n",
      "Abradolf Lincler 2\n",
      "Adjudicator Rick 1\n",
      "Agency Director 1\n",
      "Alan Rails 1\n",
      "Albert Einstein 1\n",
      "Alexander 1\n",
      "Alien Googah 1\n",
      "Alien Morty 1\n",
      "Alien Rick 1\n",
      "Amish Cyborg 1\n",
      "Annie 1\n",
      "Antenna Morty 2\n",
      "Antenna Rick 1\n",
      "Ants in my Eyes Johnson 1\n"
     ]
    }
   ],
   "source": [
    "parse_json(data)"
   ]
  },
  {
   "cell_type": "code",
   "execution_count": null,
   "id": "5d6c86cd-ed81-47bf-9848-307cef30911b",
   "metadata": {},
   "outputs": [],
   "source": [
    "stat = data['results'][0]['status']\n",
    "while True:\n",
    "    lstatus = input('character name:')\n",
    "    if len(lstatus)<1:break\n",
    "    elif lstatus in stat:\n",
    "        url =  baseurl + lstatus \n",
    "        print('your link:',url)\n",
    "        print(data['results'],index[lstatus])\n",
    "    else:\n",
    "        print(lstatus,\"is not available\")\n",
    "        break\n",
    "\n"
   ]
  },
  {
   "cell_type": "code",
   "execution_count": null,
   "id": "80b25dc0-c9ba-456d-a455-aeba88bbea23",
   "metadata": {},
   "outputs": [],
   "source": [
    "while True:\n",
    "    lstatus = input('character name:')\n",
    "    if len(lstatus)<1:break\n",
    "    elif lstatus in data['status']:\n",
    "        url =  baseurl + lstatus \n",
    "        print('your link:',url)\n",
    "    else:\n",
    "        print(lstatus,\"is not available\")\n",
    "        break\n",
    "episode = data['results'][0]['episode']        "
   ]
  },
  {
   "cell_type": "code",
   "execution_count": 24,
   "id": "8e73167c-7b68-4a02-82be-0ff6e0e54235",
   "metadata": {},
   "outputs": [
    {
     "name": "stdout",
     "output_type": "stream",
     "text": [
      "{'id': 1, 'name': 'Rick Sanchez', 'status': 'Alive', 'species': 'Human', 'type': '', 'gender': 'Male', 'origin': {'name': 'Earth (C-137)', 'url': 'https://rickandmortyapi.com/api/location/1'}, 'location': {'name': 'Citadel of Ricks', 'url': 'https://rickandmortyapi.com/api/location/3'}, 'image': 'https://rickandmortyapi.com/api/character/avatar/1.jpeg', 'episode': ['https://rickandmortyapi.com/api/episode/1', 'https://rickandmortyapi.com/api/episode/2', 'https://rickandmortyapi.com/api/episode/3', 'https://rickandmortyapi.com/api/episode/4', 'https://rickandmortyapi.com/api/episode/5', 'https://rickandmortyapi.com/api/episode/6', 'https://rickandmortyapi.com/api/episode/7', 'https://rickandmortyapi.com/api/episode/8', 'https://rickandmortyapi.com/api/episode/9', 'https://rickandmortyapi.com/api/episode/10', 'https://rickandmortyapi.com/api/episode/11', 'https://rickandmortyapi.com/api/episode/12', 'https://rickandmortyapi.com/api/episode/13', 'https://rickandmortyapi.com/api/episode/14', 'https://rickandmortyapi.com/api/episode/15', 'https://rickandmortyapi.com/api/episode/16', 'https://rickandmortyapi.com/api/episode/17', 'https://rickandmortyapi.com/api/episode/18', 'https://rickandmortyapi.com/api/episode/19', 'https://rickandmortyapi.com/api/episode/20', 'https://rickandmortyapi.com/api/episode/21', 'https://rickandmortyapi.com/api/episode/22', 'https://rickandmortyapi.com/api/episode/23', 'https://rickandmortyapi.com/api/episode/24', 'https://rickandmortyapi.com/api/episode/25', 'https://rickandmortyapi.com/api/episode/26', 'https://rickandmortyapi.com/api/episode/27', 'https://rickandmortyapi.com/api/episode/28', 'https://rickandmortyapi.com/api/episode/29', 'https://rickandmortyapi.com/api/episode/30', 'https://rickandmortyapi.com/api/episode/31', 'https://rickandmortyapi.com/api/episode/32', 'https://rickandmortyapi.com/api/episode/33', 'https://rickandmortyapi.com/api/episode/34', 'https://rickandmortyapi.com/api/episode/35', 'https://rickandmortyapi.com/api/episode/36', 'https://rickandmortyapi.com/api/episode/37', 'https://rickandmortyapi.com/api/episode/38', 'https://rickandmortyapi.com/api/episode/39', 'https://rickandmortyapi.com/api/episode/40', 'https://rickandmortyapi.com/api/episode/41', 'https://rickandmortyapi.com/api/episode/42', 'https://rickandmortyapi.com/api/episode/43', 'https://rickandmortyapi.com/api/episode/44', 'https://rickandmortyapi.com/api/episode/45', 'https://rickandmortyapi.com/api/episode/46', 'https://rickandmortyapi.com/api/episode/47', 'https://rickandmortyapi.com/api/episode/48', 'https://rickandmortyapi.com/api/episode/49', 'https://rickandmortyapi.com/api/episode/50', 'https://rickandmortyapi.com/api/episode/51'], 'url': 'https://rickandmortyapi.com/api/character/1', 'created': '2017-11-04T18:48:46.250Z'}\n"
     ]
    }
   ],
   "source": [
    "name=data['results'][0]\n",
    "print(name)"
   ]
  },
  {
   "cell_type": "code",
   "execution_count": null,
   "id": "a37c9ddd-8726-4f0b-a671-7a15c1d48b2f",
   "metadata": {},
   "outputs": [],
   "source": [
    "def enter(response):\n",
    "    charlist= []\n",
    "    for item in response['results']:\n",
    "        char = {\n",
    "            'name':item['name'],\n",
    "            'no_ep':len(item['episode']),\n",
    "        }\n",
    "        charlist.append(char)\n",
    "    return charlist \n",
    "print(enter(data))\n"
   ]
  },
  {
   "cell_type": "code",
   "execution_count": null,
   "id": "d81319f5-5445-45c7-8cdd-b00a067ad2c3",
   "metadata": {},
   "outputs": [],
   "source": []
  },
  {
   "cell_type": "code",
   "execution_count": null,
   "id": "6eadd7db-1dd8-403b-95fa-5ec628cdcdb5",
   "metadata": {},
   "outputs": [],
   "source": [
    "i= input('name of charcter')\n",
    "top =['results']\n",
    "def output(i):\n",
    "    for item in top:\n",
    "        top[item] =1\n",
    "    else:\n",
    "        top[name]=top[name]+1\n",
    "        print(item['name'],len(item['episode']))\n",
    "    return    \n"
   ]
  },
  {
   "cell_type": "code",
   "execution_count": null,
   "id": "ce427108-06ac-4d36-8256-22a8062d7b15",
   "metadata": {},
   "outputs": [],
   "source": []
  },
  {
   "cell_type": "code",
   "execution_count": null,
   "id": "e4e8997b-7ce6-4c95-92de-12fa49967e4a",
   "metadata": {},
   "outputs": [],
   "source": [
    "if name in names:\n",
    "    if name not in counts:\n",
    "        counts[name]=1\n",
    "    else:\n",
    "        counts[name] =counts[name]+1\n",
    "print(counts)    "
   ]
  },
  {
   "cell_type": "code",
   "execution_count": null,
   "id": "201158d8-2d6a-46fe-b825-06c337ae3abe",
   "metadata": {},
   "outputs": [],
   "source": [
    "stat = data['results'][8]['status']"
   ]
  },
  {
   "cell_type": "code",
   "execution_count": null,
   "id": "df8b3902-71e7-4a01-8100-45ca4b894364",
   "metadata": {},
   "outputs": [],
   "source": [
    "while True:\n",
    "    lstatus = input('character name:')\n",
    "    if len(lstatus)<1:break\n",
    "    elif lstatus in stat:\n",
    "        url =  baseurl + lstatus \n",
    "        print('your link:',url)\n",
    "    else:\n",
    "        print(lstatus,\"is not available\")\n",
    "        break"
   ]
  },
  {
   "cell_type": "code",
   "execution_count": 33,
   "id": "c37907b1-2abb-4740-93d1-f20770ef6637",
   "metadata": {},
   "outputs": [
    {
     "name": "stdout",
     "output_type": "stream",
     "text": [
      "Dead\n"
     ]
    }
   ],
   "source": [
    "stat = data['results'][8]['status']\n",
    "print(stat)"
   ]
  },
  {
   "cell_type": "code",
   "execution_count": null,
   "id": "3591392f-8cf7-4825-bd8c-784844ee496e",
   "metadata": {},
   "outputs": [],
   "source": []
  },
  {
   "cell_type": "code",
   "execution_count": null,
   "id": "c267ad03-b643-409b-8d43-525c0a14987e",
   "metadata": {},
   "outputs": [],
   "source": []
  }
 ],
 "metadata": {
  "kernelspec": {
   "display_name": "UFRC Python-3.10",
   "language": "python",
   "name": "python3-3.10-ufrc"
  },
  "language_info": {
   "codemirror_mode": {
    "name": "ipython",
    "version": 3
   },
   "file_extension": ".py",
   "mimetype": "text/x-python",
   "name": "python",
   "nbconvert_exporter": "python",
   "pygments_lexer": "ipython3",
   "version": "3.10.5"
  }
 },
 "nbformat": 4,
 "nbformat_minor": 5
}
