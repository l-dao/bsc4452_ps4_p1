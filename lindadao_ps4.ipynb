{
 "cells": [
  {
   "cell_type": "code",
   "execution_count": 25,
   "metadata": {},
   "outputs": [
    {
     "name": "stdin",
     "output_type": "stream",
     "text": [
      "Enter a subject:  cats\n"
     ]
    },
    {
     "name": "stdout",
     "output_type": "stream",
     "text": [
      "Retrieving https://api.artic.edu/api/v1/artworks/search?q=cats\n",
      "Retrieved 6199 characters\n",
      "{'preference': None, 'pagination': {'total': 7280, 'limit': 10, 'offset': 0, 'total_pages': 728, 'current_page': 1}, 'data': [{'_score': 143.47675, 'thumbnail': {'alt_text': 'A work made of bronze with green patina.', 'width': 8430, 'lqip': 'data:image/gif;base64,R0lGODlhCAAFAPUAADY5NTQ/PkI4IT1COjtEQkNHQk5YWFteWWtkTmtoX291WnJ1WX1xZ355cYZ3Zn+Cf42KaoWEeJOKfpeWcoCEgI2OiJaQgp+XgpWRiJWTjKKbjqqhkK+olbGml7q0q7e2sMG5rcbAs8fBuMrGv8/HvsnJud3d3evr7gAAAAAAAAAAAAAAAAAAAAAAAAAAAAAAAAAAAAAAAAAAAAAAAAAAAAAAAAAAAAAAAAAAAAAAAAAAAAAAAAAAAAAAAAAAAAAAACH5BAAAAAAALAAAAAAIAAUAAAYlQJPnIwKRQpPTyPDgQDaC0gUQIAwsDISjcUgUMB2JpkLJRBSLIAA7', 'height': 5620}, 'api_model': 'artworks', 'is_boosted': False, 'api_link': 'https://api.artic.edu/api/v1/artworks/656', 'id': 656, 'title': 'Lion (One of a Pair, South Pedestal)', 'timestamp': '2022-11-07T23:16:55-06:00'}, {'_score': 122.93898, 'thumbnail': {'alt_text': 'A work made of oil on board.', 'width': 6486, 'lqip': 'data:image/gif;base64,R0lGODlhBAAFAPQAACUiHCckHSghGi4nGislHi0mHjMvJDUuJDUwITcwIz07LUY+LUhALktGNExGNFFINGhYOWdcQXVlRYRmSAAAAAAAAAAAAAAAAAAAAAAAAAAAAAAAAAAAAAAAAAAAAAAAACH5BAAAAAAALAAAAAAEAAUAAAUR4EAwC3JMjxJJhgM1QSEkQAgAOw==', 'height': 7661}, 'api_model': 'artworks', 'is_boosted': False, 'api_link': 'https://api.artic.edu/api/v1/artworks/117241', 'id': 117241, 'title': 'Girl with Cat', 'timestamp': '2022-11-01T03:08:22-05:00'}, {'_score': 121.37433, 'thumbnail': {'alt_text': 'A work made of oil on cardboard.', 'width': 4603, 'lqip': 'data:image/gif;base64,R0lGODlhBAAFAPQAAFpcVVthVGBgSndvSW5hUWtlWHJvVWxpYHJ1bYd+an2Feo6Da4iGcZmTfqWdi6SgkK+rnLS7q7u4qb68rAAAAAAAAAAAAAAAAAAAAAAAAAAAAAAAAAAAAAAAAAAAAAAAACH5BAAAAAAALAAAAAAEAAUAAAURoBIIQ8QQBlIsDXAkzjNJUAgAOw==', 'height': 5060}, 'api_model': 'artworks', 'is_boosted': False, 'api_link': 'https://api.artic.edu/api/v1/artworks/45259', 'id': 45259, 'title': 'Nude with Cats', 'timestamp': '2022-11-07T23:08:25-06:00'}, {'_score': 108.05432, 'thumbnail': {'alt_text': 'A color woodblock print of two orangeand white cats with pink noses represented in cubist-like design against a blue, gray and black background', 'width': 1645, 'lqip': 'data:image/gif;base64,R0lGODlhBAAFAPQAACAmNC0wPW1VOTw/SVlWUXBlVnV2doVnQ494WYx8aI+BboWAedipa4iOlYyQlI+UmaabkLKpmta2jKi52wAAAAAAAAAAAAAAAAAAAAAAAAAAAAAAAAAAAAAAAAAAAAAAACH5BAAAAAAALAAAAAAEAAUAAAURoAJNw5IUQEMggWNIwhMxRwgAOw==', 'height': 2250}, 'api_model': 'artworks', 'is_boosted': False, 'api_link': 'https://api.artic.edu/api/v1/artworks/16227', 'id': 16227, 'title': 'Cat Making Up', 'timestamp': '2022-11-01T03:07:31-05:00'}, {'_score': 103.2077, 'thumbnail': {'alt_text': 'A work made of watercolor and gouache, over touches of graphite, on cream wove paper.', 'width': 1754, 'lqip': 'data:image/gif;base64,R0lGODlhBAAFAPQAAJB4cbqIcIp/irSQgrWXhbScjbGZlqqdqqicr66iusCklcGpm7m0zb+409LH0NPF09XJ1tbL1tnM2d7P3wAAAAAAAAAAAAAAAAAAAAAAAAAAAAAAAAAAAAAAAAAAAAAAACH5BAAAAAAALAAAAAAEAAUAAAURYCRBDtNMD5IIxxAARkEoSwgAOw==', 'height': 2250}, 'api_model': 'artworks', 'is_boosted': False, 'api_link': 'https://api.artic.edu/api/v1/artworks/22482', 'id': 22482, 'title': 'Homesickness', 'timestamp': '2022-11-07T23:03:57-06:00'}, {'_score': 97.689255, 'thumbnail': {'alt_text': 'A work made of lithograph in 6 colors (red, ochre, yellow, black, gray-brown, brown) from two stones, with scraping on stone, on ivory wove paper.', 'width': 2928, 'lqip': 'data:image/gif;base64,R0lGODlhBgAFAPQAAEI9JFFFLV5QPWVaOn1VR31rUHhpV3BnXHprWYBhRpJgUIdyU6VqW6pxXKR5WId9b458bcBvZcdwaM14btR3b9V8c9F/eI6Dc6uHeqKSfcORhtiVjdmWjt6ZkAAAAAAAACH5BAAAAAAALAAAAAAGAAUAAAUY4GUgxZI9QgAk2jE4CrNBhFVRHdZMkcSFADs=', 'height': 2250}, 'api_model': 'artworks', 'is_boosted': False, 'api_link': 'https://api.artic.edu/api/v1/artworks/51719', 'id': 51719, 'title': 'Winter: Cat on a Cushion', 'timestamp': '2022-11-01T03:06:32-05:00'}, {'_score': 96.64483, 'thumbnail': {'alt_text': 'A work made of wood.', 'width': 1500, 'lqip': 'data:image/gif;base64,R0lGODlhAwAFAPMAAGlQQXhiVG9yfZF9b4eAgJaKh4KGkKOXk6SZlJKWoaehoaKiqKmorbK5x+Tn8AAAACH5BAAAAAAALAAAAAADAAUAAAQL0BDBRkKhFbDcUREAOw==', 'height': 2250}, 'api_model': 'artworks', 'is_boosted': False, 'api_link': 'https://api.artic.edu/api/v1/artworks/5522', 'id': 5522, 'title': 'Sarcophagus (?) of a Cat', 'timestamp': '2022-11-07T23:07:22-06:00'}, {'_score': 96.21254, 'thumbnail': {'alt_text': 'A work made of gold, enamel, and baroque pearl.', 'width': 2911, 'lqip': 'data:image/gif;base64,R0lGODlhBgAFAPQAAKGJbLOYdbKafMGhdJ6fn6eWgLSgiLCnnKKhoaWjpKakpaelpqenp66wtbKwsbSztLW0tLi3uLe5v7y9vsasjsO6ssK9vMPAvsfBvMXBwMTCwsLCxcjIyO3m3wAAAAAAACH5BAAAAAAALAAAAAAGAAUAAAUYILMoCUJAjxMczXR1QyFtBiUAEYdVVqaFADs=', 'height': 2250}, 'api_model': 'artworks', 'is_boosted': False, 'api_link': 'https://api.artic.edu/api/v1/artworks/119335', 'id': 119335, 'title': 'Baroque Pearl Mounted as a Cat Holding a Mouse', 'timestamp': '2022-11-01T03:05:31-05:00'}, {'_score': 95.42583, 'thumbnail': {'alt_text': 'A work made of hand-colored woodblock print; tan-e, vertical o-oban.', 'width': 2039, 'lqip': 'data:image/gif;base64,R0lGODlhAwAFAPMAAK+RdLmlgryjhrCgiL2oj8KymsWzmMq2msvArMvBrNDBrNDGsdjLtNnOtwAAAAAAACH5BAAAAAAALAAAAAADAAUAAAQLMLFmRCvhDECWQhEAOw==', 'height': 3800}, 'api_model': 'artworks', 'is_boosted': False, 'api_link': 'https://api.artic.edu/api/v1/artworks/158921', 'id': 158921, 'title': 'Courtesan Playing with a Cat', 'timestamp': '2022-11-01T03:05:55-05:00'}, {'_score': 94.33204, 'thumbnail': {'alt_text': 'A work made of lithograph in black on ivory wove paper, laid down on ivory cloth.', 'width': 1767, 'lqip': 'data:image/gif;base64,R0lGODlhBAAFAPQAAC0nHFpSRH92Z4V+boyDdJOId6KWh6GYiaacjKidja6lkq6klLKolrmunb6zosO4psK6qMe6qNHEstPItwAAAAAAAAAAAAAAAAAAAAAAAAAAAAAAAAAAAAAAAAAAAAAAACH5BAAAAAAALAAAAAAEAAUAAAURYIQs0zMojQBARxEwhOQkRggAOw==', 'height': 2250}, 'api_model': 'artworks', 'is_boosted': False, 'api_link': 'https://api.artic.edu/api/v1/artworks/68825', 'id': 68825, 'title': \"The Cats' Rendezvous\", 'timestamp': '2022-11-07T23:10:18-06:00'}], 'info': {'license_text': 'The data in this response is licensed under a Creative Commons Zero (CC0) 1.0 designation and the Terms and Conditions of artic.edu.', 'license_links': ['https://creativecommons.org/publicdomain/zero/1.0/', 'https://www.artic.edu/terms'], 'version': '1.5'}, 'config': {'iiif_url': 'https://www.artic.edu/iiif/2', 'website_url': 'http://www.artic.edu'}}\n"
     ]
    },
    {
     "ename": "TypeError",
     "evalue": "string indices must be integers",
     "output_type": "error",
     "traceback": [
      "\u001b[0;31m---------------------------------------------------------------------------\u001b[0m",
      "\u001b[0;31mTypeError\u001b[0m                                 Traceback (most recent call last)",
      "\u001b[0;32m/scratch/local/51124869/ipykernel_59266/2110203776.py\u001b[0m in \u001b[0;36m<cell line: 6>\u001b[0;34m()\u001b[0m\n\u001b[1;32m     28\u001b[0m \u001b[0;34m\u001b[0m\u001b[0m\n\u001b[1;32m     29\u001b[0m     \u001b[0;32mfor\u001b[0m \u001b[0mbeer\u001b[0m \u001b[0;32min\u001b[0m \u001b[0mjs\u001b[0m\u001b[0;34m:\u001b[0m\u001b[0;34m\u001b[0m\u001b[0;34m\u001b[0m\u001b[0m\n\u001b[0;32m---> 30\u001b[0;31m         \u001b[0mprint\u001b[0m\u001b[0;34m(\u001b[0m\u001b[0;34m\"Beer name:\"\u001b[0m\u001b[0;34m,\u001b[0m \u001b[0mbeer\u001b[0m\u001b[0;34m[\u001b[0m\u001b[0;34m'name'\u001b[0m\u001b[0;34m]\u001b[0m\u001b[0;34m)\u001b[0m\u001b[0;34m\u001b[0m\u001b[0;34m\u001b[0m\u001b[0m\n\u001b[0m\u001b[1;32m     31\u001b[0m \u001b[0;34m\u001b[0m\u001b[0m\n\u001b[1;32m     32\u001b[0m     \u001b[0mprint\u001b[0m\u001b[0;34m(\u001b[0m\u001b[0mdata\u001b[0m\u001b[0;34m)\u001b[0m\u001b[0;34m\u001b[0m\u001b[0;34m\u001b[0m\u001b[0m\n",
      "\u001b[0;31mTypeError\u001b[0m: string indices must be integers"
     ]
    }
   ],
   "source": [
    "import urllib.request, urllib.parse, urllib.error\n",
    "import json\n",
    "\n",
    "serviceurl = 'https://api.artic.edu/api/v1/artworks'\n",
    "\n",
    "while True:\n",
    "    artwork_subject = input('Enter a subject: ')\n",
    "    if len(artwork_subject) < 1: break\n",
    "\n",
    "       # /search?q=cats\n",
    "    url = serviceurl + '/search?' + urllib.parse.urlencode(\n",
    "        {'q': artwork_subject})\n",
    "\n",
    "    print('Retrieving', url)\n",
    "    uh = urllib.request.urlopen(urllib.request.Request(url, headers={'User-Agent': 'Mozilla/5.0'}))\n",
    "    data = uh.read().decode()\n",
    "    print('Retrieved', len(data), 'characters')\n",
    "\n",
    "    try:\n",
    "        js = json.loads(data)\n",
    "    except:\n",
    "        js = None\n",
    "        \n",
    "    print(js)\n",
    "\n",
    "    # Comment out because it's kind of long   \n",
    "    #print(json.dumps(js, indent=4))\n",
    "    \n",
    "    for beer in js:\n",
    "        print(\"Beer name:\", beer['name'])\n",
    "        \n",
    "    print(data)"
   ]
  }
 ],
 "metadata": {
  "kernelspec": {
   "display_name": "UFRC Python-3.10",
   "language": "python",
   "name": "python3-3.10-ufrc"
  },
  "language_info": {
   "codemirror_mode": {
    "name": "ipython",
    "version": 3
   },
   "file_extension": ".py",
   "mimetype": "text/x-python",
   "name": "python",
   "nbconvert_exporter": "python",
   "pygments_lexer": "ipython3",
   "version": "3.10.5"
  }
 },
 "nbformat": 4,
 "nbformat_minor": 4
}
