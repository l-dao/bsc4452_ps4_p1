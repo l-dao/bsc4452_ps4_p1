{
 "cells": [
  {
   "cell_type": "code",
   "execution_count": null,
   "metadata": {},
   "outputs": [
    {
     "name": "stdin",
     "output_type": "stream",
     "text": [
      "Enter a subject:  dogs\n"
     ]
    },
    {
     "name": "stdout",
     "output_type": "stream",
     "text": [
      "Retrieving https://api.artic.edu/api/v1/artworks/search?q=dogs&fields=id,title,alt_text,image_id\n",
      "Retrieved 1758 characters\n",
      "{'preference': None, 'pagination': {'total': 974, 'limit': 10, 'offset': 0, 'total_pages': 98, 'current_page': 1}, 'data': [{'_score': 159.06126, 'id': 158, 'image_id': 'b07e0166-e0be-8dd4-fce6-245e84836574', 'title': 'Pelike (Storage Jar)'}, {'_score': 149.81123, 'id': 14687, 'image_id': '69c23f1a-701b-25fe-609d-13a5776e4e5a', 'title': 'Fragment'}, {'_score': 119.93679, 'id': 189201, 'image_id': 'ce327757-aad3-66b0-7230-da6e0e0f7b12', 'title': 'Confrontation at the Bridge'}, {'_score': 111.65076, 'id': 40724, 'image_id': 'fadf6188-07a0-d37a-f119-b0b9fc33c902', 'title': \"The Offering of the Boar's Head, from The Story of Meleager and Atalanta\"}, {'_score': 102.607216, 'id': 88699, 'image_id': 'd1be42f5-8ae6-d476-7b1f-98cc783fa02b', 'title': 'Tapestry (Bear Hunt and Falconry from a Hunts Series)'}, {'_score': 102.37414, 'id': 79796, 'image_id': '75e42ef1-739c-37b4-7f79-0c80d460c716', 'title': 'The Meeting of Jacob and Rebecca, and Isaac Blessing Jacob, from The Story of Jacob'}, {'_score': 97.21958, 'id': 65887, 'image_id': 'beed3af1-8c97-1c24-7c5a-a058f5cb5eba', 'title': 'Dogs Chasing Each Other'}, {'_score': 93.53162, 'id': 184383, 'image_id': '79c52f77-5a71-5042-a42b-e46d181ece1b', 'title': 'Dog Scratches'}, {'_score': 93.16937, 'id': 105700, 'image_id': '3647a68e-6b4a-72f0-062a-94dd077b1dc1', 'title': 'A Panel from a Porticoes Series'}, {'_score': 91.417206, 'id': 148301, 'image_id': 'd2f51500-2ec5-ef41-28c6-0a5b33420405', 'title': 'Egypt'}], 'info': {'license_text': 'The data in this response is licensed under a Creative Commons Zero (CC0) 1.0 designation and the Terms and Conditions of artic.edu.', 'license_links': ['https://creativecommons.org/publicdomain/zero/1.0/', 'https://www.artic.edu/terms'], 'version': '1.5'}, 'config': {'iiif_url': 'https://www.artic.edu/iiif/2', 'website_url': 'http://www.artic.edu'}}\n",
      "Art iiif_url: https://www.artic.edu/iiif/2\n",
      "Art title: Pelike (Storage Jar)\n",
      "Art image_id: b07e0166-e0be-8dd4-fce6-245e84836574\n",
      "Getting image from: https://www.artic.edu/iiif/2/b07e0166-e0be-8dd4-fce6-245e84836574/full/843,/0/default.jpg\n"
     ]
    },
    {
     "data": {
      "text/html": [
       "<img src=\"https://www.artic.edu/iiif/2/b07e0166-e0be-8dd4-fce6-245e84836574/full/843,/0/default.jpg\"/>"
      ],
      "text/plain": [
       "<IPython.core.display.Image object>"
      ]
     },
     "metadata": {},
     "output_type": "display_data"
    },
    {
     "name": "stdout",
     "output_type": "stream",
     "text": [
      "Art title: Fragment\n",
      "Art image_id: 69c23f1a-701b-25fe-609d-13a5776e4e5a\n",
      "Getting image from: https://www.artic.edu/iiif/2/69c23f1a-701b-25fe-609d-13a5776e4e5a/full/843,/0/default.jpg\n"
     ]
    },
    {
     "data": {
      "text/html": [
       "<img src=\"https://www.artic.edu/iiif/2/69c23f1a-701b-25fe-609d-13a5776e4e5a/full/843,/0/default.jpg\"/>"
      ],
      "text/plain": [
       "<IPython.core.display.Image object>"
      ]
     },
     "metadata": {},
     "output_type": "display_data"
    },
    {
     "name": "stdout",
     "output_type": "stream",
     "text": [
      "Art title: Confrontation at the Bridge\n",
      "Art image_id: ce327757-aad3-66b0-7230-da6e0e0f7b12\n",
      "Getting image from: https://www.artic.edu/iiif/2/ce327757-aad3-66b0-7230-da6e0e0f7b12/full/843,/0/default.jpg\n"
     ]
    },
    {
     "data": {
      "text/html": [
       "<img src=\"https://www.artic.edu/iiif/2/ce327757-aad3-66b0-7230-da6e0e0f7b12/full/843,/0/default.jpg\"/>"
      ],
      "text/plain": [
       "<IPython.core.display.Image object>"
      ]
     },
     "metadata": {},
     "output_type": "display_data"
    },
    {
     "name": "stdout",
     "output_type": "stream",
     "text": [
      "Art title: The Offering of the Boar's Head, from The Story of Meleager and Atalanta\n",
      "Art image_id: fadf6188-07a0-d37a-f119-b0b9fc33c902\n",
      "Getting image from: https://www.artic.edu/iiif/2/fadf6188-07a0-d37a-f119-b0b9fc33c902/full/843,/0/default.jpg\n"
     ]
    },
    {
     "data": {
      "text/html": [
       "<img src=\"https://www.artic.edu/iiif/2/fadf6188-07a0-d37a-f119-b0b9fc33c902/full/843,/0/default.jpg\"/>"
      ],
      "text/plain": [
       "<IPython.core.display.Image object>"
      ]
     },
     "metadata": {},
     "output_type": "display_data"
    },
    {
     "name": "stdout",
     "output_type": "stream",
     "text": [
      "Art title: Tapestry (Bear Hunt and Falconry from a Hunts Series)\n",
      "Art image_id: d1be42f5-8ae6-d476-7b1f-98cc783fa02b\n",
      "Getting image from: https://www.artic.edu/iiif/2/d1be42f5-8ae6-d476-7b1f-98cc783fa02b/full/843,/0/default.jpg\n"
     ]
    },
    {
     "data": {
      "text/html": [
       "<img src=\"https://www.artic.edu/iiif/2/d1be42f5-8ae6-d476-7b1f-98cc783fa02b/full/843,/0/default.jpg\"/>"
      ],
      "text/plain": [
       "<IPython.core.display.Image object>"
      ]
     },
     "metadata": {},
     "output_type": "display_data"
    },
    {
     "name": "stdout",
     "output_type": "stream",
     "text": [
      "Art title: The Meeting of Jacob and Rebecca, and Isaac Blessing Jacob, from The Story of Jacob\n",
      "Art image_id: 75e42ef1-739c-37b4-7f79-0c80d460c716\n",
      "Getting image from: https://www.artic.edu/iiif/2/75e42ef1-739c-37b4-7f79-0c80d460c716/full/843,/0/default.jpg\n"
     ]
    },
    {
     "data": {
      "text/html": [
       "<img src=\"https://www.artic.edu/iiif/2/75e42ef1-739c-37b4-7f79-0c80d460c716/full/843,/0/default.jpg\"/>"
      ],
      "text/plain": [
       "<IPython.core.display.Image object>"
      ]
     },
     "metadata": {},
     "output_type": "display_data"
    },
    {
     "name": "stdout",
     "output_type": "stream",
     "text": [
      "Art title: Dogs Chasing Each Other\n",
      "Art image_id: beed3af1-8c97-1c24-7c5a-a058f5cb5eba\n",
      "Getting image from: https://www.artic.edu/iiif/2/beed3af1-8c97-1c24-7c5a-a058f5cb5eba/full/843,/0/default.jpg\n"
     ]
    },
    {
     "data": {
      "text/html": [
       "<img src=\"https://www.artic.edu/iiif/2/beed3af1-8c97-1c24-7c5a-a058f5cb5eba/full/843,/0/default.jpg\"/>"
      ],
      "text/plain": [
       "<IPython.core.display.Image object>"
      ]
     },
     "metadata": {},
     "output_type": "display_data"
    },
    {
     "name": "stdout",
     "output_type": "stream",
     "text": [
      "Art title: Dog Scratches\n",
      "Art image_id: 79c52f77-5a71-5042-a42b-e46d181ece1b\n",
      "Getting image from: https://www.artic.edu/iiif/2/79c52f77-5a71-5042-a42b-e46d181ece1b/full/843,/0/default.jpg\n"
     ]
    },
    {
     "data": {
      "text/html": [
       "<img src=\"https://www.artic.edu/iiif/2/79c52f77-5a71-5042-a42b-e46d181ece1b/full/843,/0/default.jpg\"/>"
      ],
      "text/plain": [
       "<IPython.core.display.Image object>"
      ]
     },
     "metadata": {},
     "output_type": "display_data"
    },
    {
     "name": "stdout",
     "output_type": "stream",
     "text": [
      "Art title: A Panel from a Porticoes Series\n",
      "Art image_id: 3647a68e-6b4a-72f0-062a-94dd077b1dc1\n",
      "Getting image from: https://www.artic.edu/iiif/2/3647a68e-6b4a-72f0-062a-94dd077b1dc1/full/843,/0/default.jpg\n"
     ]
    },
    {
     "data": {
      "text/html": [
       "<img src=\"https://www.artic.edu/iiif/2/3647a68e-6b4a-72f0-062a-94dd077b1dc1/full/843,/0/default.jpg\"/>"
      ],
      "text/plain": [
       "<IPython.core.display.Image object>"
      ]
     },
     "metadata": {},
     "output_type": "display_data"
    },
    {
     "name": "stdout",
     "output_type": "stream",
     "text": [
      "Art title: Egypt\n",
      "Art image_id: d2f51500-2ec5-ef41-28c6-0a5b33420405\n",
      "Getting image from: https://www.artic.edu/iiif/2/d2f51500-2ec5-ef41-28c6-0a5b33420405/full/843,/0/default.jpg\n"
     ]
    },
    {
     "data": {
      "text/html": [
       "<img src=\"https://www.artic.edu/iiif/2/d2f51500-2ec5-ef41-28c6-0a5b33420405/full/843,/0/default.jpg\"/>"
      ],
      "text/plain": [
       "<IPython.core.display.Image object>"
      ]
     },
     "metadata": {},
     "output_type": "display_data"
    },
    {
     "name": "stdin",
     "output_type": "stream",
     "text": [
      "Enter a subject:  vietnam\n"
     ]
    },
    {
     "name": "stdout",
     "output_type": "stream",
     "text": [
      "Retrieving https://api.artic.edu/api/v1/artworks/search?q=vietnam&fields=id,title,alt_text,image_id\n",
      "Retrieved 1687 characters\n",
      "{'preference': None, 'pagination': {'total': 397, 'limit': 10, 'offset': 0, 'total_pages': 40, 'current_page': 1}, 'data': [{'_score': 100.75813, 'id': 152836, 'image_id': 'bc4012ab-b53a-4832-3bff-c23a838ffd43', 'title': 'A Goddess, possibly Uma'}, {'_score': 96.33792, 'id': 221646, 'image_id': 'a18781f8-b74c-0cfc-b92c-df5c67922235', 'title': 'First Anti-Vietnam War March'}, {'_score': 81.54252, 'id': 71728, 'image_id': '4ec3096f-4324-8bb8-4142-0d0ee45d64fd', 'title': 'Vietnam Veterans Day Parade'}, {'_score': 73.29308, 'id': 149799, 'image_id': '7b485d76-53ac-f455-2e79-ea55970343d3', 'title': 'God Shiva as a Deified King'}, {'_score': 65.18678, 'id': 151348, 'image_id': '97b29d9d-cbbc-a1a1-235c-eb96e878d2d1', 'title': 'Serpent King (Nagaraja)'}, {'_score': 61.517147, 'id': 208501, 'image_id': '135abf40-2275-87ad-662c-ec732a07642a', 'title': 'Bowditch Alphabet'}, {'_score': 59.104786, 'id': 19146, 'image_id': '0192f86e-179b-ad60-e727-d9e547d90c3d', 'title': 'Trumpet Player'}, {'_score': 55.949, 'id': 185005, 'image_id': '974d7e6e-d130-54eb-7f8b-d8e1b16f29c2', 'title': 'Bowl with Relief Parrot'}, {'_score': 54.11661, 'id': 151100, 'image_id': '04abdd5c-a1ff-d9b1-4175-0fc07e170eec', 'title': 'Celestial Beauty (Apsara) in Adoration'}, {'_score': 49.4056, 'id': 185004, 'image_id': '23a14455-a4bc-534e-ac6e-191dc8981d4e', 'title': 'Pear-Shaped (Yuhuchun) Bottle with Everted Lip'}], 'info': {'license_text': 'The data in this response is licensed under a Creative Commons Zero (CC0) 1.0 designation and the Terms and Conditions of artic.edu.', 'license_links': ['https://creativecommons.org/publicdomain/zero/1.0/', 'https://www.artic.edu/terms'], 'version': '1.5'}, 'config': {'iiif_url': 'https://www.artic.edu/iiif/2', 'website_url': 'http://www.artic.edu'}}\n",
      "Art iiif_url: https://www.artic.edu/iiif/2\n",
      "Art title: A Goddess, possibly Uma\n",
      "Art image_id: bc4012ab-b53a-4832-3bff-c23a838ffd43\n",
      "Getting image from: https://www.artic.edu/iiif/2/bc4012ab-b53a-4832-3bff-c23a838ffd43/full/843,/0/default.jpg\n"
     ]
    },
    {
     "data": {
      "text/html": [
       "<img src=\"https://www.artic.edu/iiif/2/bc4012ab-b53a-4832-3bff-c23a838ffd43/full/843,/0/default.jpg\"/>"
      ],
      "text/plain": [
       "<IPython.core.display.Image object>"
      ]
     },
     "metadata": {},
     "output_type": "display_data"
    },
    {
     "name": "stdout",
     "output_type": "stream",
     "text": [
      "Art title: First Anti-Vietnam War March\n",
      "Art image_id: a18781f8-b74c-0cfc-b92c-df5c67922235\n",
      "Getting image from: https://www.artic.edu/iiif/2/a18781f8-b74c-0cfc-b92c-df5c67922235/full/843,/0/default.jpg\n"
     ]
    },
    {
     "data": {
      "text/html": [
       "<img src=\"https://www.artic.edu/iiif/2/a18781f8-b74c-0cfc-b92c-df5c67922235/full/843,/0/default.jpg\"/>"
      ],
      "text/plain": [
       "<IPython.core.display.Image object>"
      ]
     },
     "metadata": {},
     "output_type": "display_data"
    },
    {
     "name": "stdout",
     "output_type": "stream",
     "text": [
      "Art title: Vietnam Veterans Day Parade\n",
      "Art image_id: 4ec3096f-4324-8bb8-4142-0d0ee45d64fd\n",
      "Getting image from: https://www.artic.edu/iiif/2/4ec3096f-4324-8bb8-4142-0d0ee45d64fd/full/843,/0/default.jpg\n"
     ]
    },
    {
     "data": {
      "text/html": [
       "<img src=\"https://www.artic.edu/iiif/2/4ec3096f-4324-8bb8-4142-0d0ee45d64fd/full/843,/0/default.jpg\"/>"
      ],
      "text/plain": [
       "<IPython.core.display.Image object>"
      ]
     },
     "metadata": {},
     "output_type": "display_data"
    },
    {
     "name": "stdout",
     "output_type": "stream",
     "text": [
      "Art title: God Shiva as a Deified King\n",
      "Art image_id: 7b485d76-53ac-f455-2e79-ea55970343d3\n",
      "Getting image from: https://www.artic.edu/iiif/2/7b485d76-53ac-f455-2e79-ea55970343d3/full/843,/0/default.jpg\n"
     ]
    },
    {
     "data": {
      "text/html": [
       "<img src=\"https://www.artic.edu/iiif/2/7b485d76-53ac-f455-2e79-ea55970343d3/full/843,/0/default.jpg\"/>"
      ],
      "text/plain": [
       "<IPython.core.display.Image object>"
      ]
     },
     "metadata": {},
     "output_type": "display_data"
    },
    {
     "name": "stdout",
     "output_type": "stream",
     "text": [
      "Art title: Serpent King (Nagaraja)\n",
      "Art image_id: 97b29d9d-cbbc-a1a1-235c-eb96e878d2d1\n",
      "Getting image from: https://www.artic.edu/iiif/2/97b29d9d-cbbc-a1a1-235c-eb96e878d2d1/full/843,/0/default.jpg\n"
     ]
    },
    {
     "data": {
      "text/html": [
       "<img src=\"https://www.artic.edu/iiif/2/97b29d9d-cbbc-a1a1-235c-eb96e878d2d1/full/843,/0/default.jpg\"/>"
      ],
      "text/plain": [
       "<IPython.core.display.Image object>"
      ]
     },
     "metadata": {},
     "output_type": "display_data"
    },
    {
     "name": "stdout",
     "output_type": "stream",
     "text": [
      "Art title: Bowditch Alphabet\n",
      "Art image_id: 135abf40-2275-87ad-662c-ec732a07642a\n",
      "Getting image from: https://www.artic.edu/iiif/2/135abf40-2275-87ad-662c-ec732a07642a/full/843,/0/default.jpg\n"
     ]
    },
    {
     "data": {
      "text/html": [
       "<img src=\"https://www.artic.edu/iiif/2/135abf40-2275-87ad-662c-ec732a07642a/full/843,/0/default.jpg\"/>"
      ],
      "text/plain": [
       "<IPython.core.display.Image object>"
      ]
     },
     "metadata": {},
     "output_type": "display_data"
    },
    {
     "name": "stdout",
     "output_type": "stream",
     "text": [
      "Art title: Trumpet Player\n",
      "Art image_id: 0192f86e-179b-ad60-e727-d9e547d90c3d\n",
      "Getting image from: https://www.artic.edu/iiif/2/0192f86e-179b-ad60-e727-d9e547d90c3d/full/843,/0/default.jpg\n"
     ]
    },
    {
     "data": {
      "text/html": [
       "<img src=\"https://www.artic.edu/iiif/2/0192f86e-179b-ad60-e727-d9e547d90c3d/full/843,/0/default.jpg\"/>"
      ],
      "text/plain": [
       "<IPython.core.display.Image object>"
      ]
     },
     "metadata": {},
     "output_type": "display_data"
    },
    {
     "name": "stdout",
     "output_type": "stream",
     "text": [
      "Art title: Bowl with Relief Parrot\n",
      "Art image_id: 974d7e6e-d130-54eb-7f8b-d8e1b16f29c2\n",
      "Getting image from: https://www.artic.edu/iiif/2/974d7e6e-d130-54eb-7f8b-d8e1b16f29c2/full/843,/0/default.jpg\n"
     ]
    },
    {
     "data": {
      "text/html": [
       "<img src=\"https://www.artic.edu/iiif/2/974d7e6e-d130-54eb-7f8b-d8e1b16f29c2/full/843,/0/default.jpg\"/>"
      ],
      "text/plain": [
       "<IPython.core.display.Image object>"
      ]
     },
     "metadata": {},
     "output_type": "display_data"
    },
    {
     "name": "stdout",
     "output_type": "stream",
     "text": [
      "Art title: Celestial Beauty (Apsara) in Adoration\n",
      "Art image_id: 04abdd5c-a1ff-d9b1-4175-0fc07e170eec\n",
      "Getting image from: https://www.artic.edu/iiif/2/04abdd5c-a1ff-d9b1-4175-0fc07e170eec/full/843,/0/default.jpg\n"
     ]
    },
    {
     "data": {
      "text/html": [
       "<img src=\"https://www.artic.edu/iiif/2/04abdd5c-a1ff-d9b1-4175-0fc07e170eec/full/843,/0/default.jpg\"/>"
      ],
      "text/plain": [
       "<IPython.core.display.Image object>"
      ]
     },
     "metadata": {},
     "output_type": "display_data"
    },
    {
     "name": "stdout",
     "output_type": "stream",
     "text": [
      "Art title: Pear-Shaped (Yuhuchun) Bottle with Everted Lip\n",
      "Art image_id: 23a14455-a4bc-534e-ac6e-191dc8981d4e\n",
      "Getting image from: https://www.artic.edu/iiif/2/23a14455-a4bc-534e-ac6e-191dc8981d4e/full/843,/0/default.jpg\n"
     ]
    },
    {
     "data": {
      "text/html": [
       "<img src=\"https://www.artic.edu/iiif/2/23a14455-a4bc-534e-ac6e-191dc8981d4e/full/843,/0/default.jpg\"/>"
      ],
      "text/plain": [
       "<IPython.core.display.Image object>"
      ]
     },
     "metadata": {},
     "output_type": "display_data"
    },
    {
     "name": "stdin",
     "output_type": "stream",
     "text": [
      "Enter a subject:  pumpkin\n"
     ]
    },
    {
     "name": "stdout",
     "output_type": "stream",
     "text": [
      "Retrieving https://api.artic.edu/api/v1/artworks/search?q=pumpkin&fields=id,title,alt_text,image_id\n",
      "Retrieved 1634 characters\n",
      "{'preference': None, 'pagination': {'total': 9, 'limit': 10, 'offset': 0, 'total_pages': 1, 'current_page': 1}, 'data': [{'_score': 115.82871, 'id': 131116, 'image_id': '13ba1b3c-1d68-4c8f-4bb8-a0c9b26c1e73', 'title': 'Pumpkins in the Sun'}, {'_score': 114.0396, 'id': 49071, 'image_id': '83b5ccc5-9c14-e535-a4af-ebec7cc855ac', 'title': 'The Acorn and the Pumpkin'}, {'_score': 86.07148, 'id': 131120, 'image_id': '0fd358f4-b99b-270e-42a1-19980a0b3140', 'title': 'Pumpkin Eating'}, {'_score': 79.93374, 'id': 65175, 'image_id': 'dcd26ebe-5908-386d-b64b-8e18cb19f109', 'title': 'Vegetable Tree (Dress or Furnishing Fabric)'}, {'_score': 77.35072, 'id': 76050, 'image_id': 'b655327c-ff5b-e0bf-a373-a7d0ce428981', 'title': 'Bedcover (Pumpkin Blossom Quilt)'}, {'_score': 73.86274, 'id': 186772, 'image_id': '8c3fbade-abc6-5e6b-aaab-c96c2401bbd5', 'title': 'Pumpkins in the Sun, plate 29 from Méndez: 25 Prints'}, {'_score': 73.504105, 'id': 58466, 'image_id': '8eafaacd-c088-b452-b713-1612fe318984', 'title': 'September and October From The Twelve Months of the Year (Fragment)'}, {'_score': 64.93924, 'id': 202486, 'image_id': '2afc6fc7-6689-e5b7-924f-e18a01e0dfd5', 'title': 'Pumpkin'}, {'_score': 16.258085, 'id': 237971, 'image_id': 'bdcdc4a9-ca98-94a9-97a2-d82984170649', 'title': 'The Cigarette Seller, Pushkin Square, Moscow'}], 'info': {'license_text': 'The data in this response is licensed under a Creative Commons Zero (CC0) 1.0 designation and the Terms and Conditions of artic.edu.', 'license_links': ['https://creativecommons.org/publicdomain/zero/1.0/', 'https://www.artic.edu/terms'], 'version': '1.5'}, 'config': {'iiif_url': 'https://www.artic.edu/iiif/2', 'website_url': 'http://www.artic.edu'}}\n",
      "Art iiif_url: https://www.artic.edu/iiif/2\n",
      "Art title: Pumpkins in the Sun\n",
      "Art image_id: 13ba1b3c-1d68-4c8f-4bb8-a0c9b26c1e73\n",
      "Getting image from: https://www.artic.edu/iiif/2/13ba1b3c-1d68-4c8f-4bb8-a0c9b26c1e73/full/843,/0/default.jpg\n"
     ]
    },
    {
     "data": {
      "text/html": [
       "<img src=\"https://www.artic.edu/iiif/2/13ba1b3c-1d68-4c8f-4bb8-a0c9b26c1e73/full/843,/0/default.jpg\"/>"
      ],
      "text/plain": [
       "<IPython.core.display.Image object>"
      ]
     },
     "metadata": {},
     "output_type": "display_data"
    },
    {
     "name": "stdout",
     "output_type": "stream",
     "text": [
      "Art title: The Acorn and the Pumpkin\n",
      "Art image_id: 83b5ccc5-9c14-e535-a4af-ebec7cc855ac\n",
      "Getting image from: https://www.artic.edu/iiif/2/83b5ccc5-9c14-e535-a4af-ebec7cc855ac/full/843,/0/default.jpg\n"
     ]
    },
    {
     "data": {
      "text/html": [
       "<img src=\"https://www.artic.edu/iiif/2/83b5ccc5-9c14-e535-a4af-ebec7cc855ac/full/843,/0/default.jpg\"/>"
      ],
      "text/plain": [
       "<IPython.core.display.Image object>"
      ]
     },
     "metadata": {},
     "output_type": "display_data"
    },
    {
     "name": "stdout",
     "output_type": "stream",
     "text": [
      "Art title: Pumpkin Eating\n",
      "Art image_id: 0fd358f4-b99b-270e-42a1-19980a0b3140\n",
      "Getting image from: https://www.artic.edu/iiif/2/0fd358f4-b99b-270e-42a1-19980a0b3140/full/843,/0/default.jpg\n"
     ]
    },
    {
     "data": {
      "text/html": [
       "<img src=\"https://www.artic.edu/iiif/2/0fd358f4-b99b-270e-42a1-19980a0b3140/full/843,/0/default.jpg\"/>"
      ],
      "text/plain": [
       "<IPython.core.display.Image object>"
      ]
     },
     "metadata": {},
     "output_type": "display_data"
    },
    {
     "name": "stdout",
     "output_type": "stream",
     "text": [
      "Art title: Vegetable Tree (Dress or Furnishing Fabric)\n",
      "Art image_id: dcd26ebe-5908-386d-b64b-8e18cb19f109\n",
      "Getting image from: https://www.artic.edu/iiif/2/dcd26ebe-5908-386d-b64b-8e18cb19f109/full/843,/0/default.jpg\n"
     ]
    },
    {
     "data": {
      "text/html": [
       "<img src=\"https://www.artic.edu/iiif/2/dcd26ebe-5908-386d-b64b-8e18cb19f109/full/843,/0/default.jpg\"/>"
      ],
      "text/plain": [
       "<IPython.core.display.Image object>"
      ]
     },
     "metadata": {},
     "output_type": "display_data"
    },
    {
     "name": "stdout",
     "output_type": "stream",
     "text": [
      "Art title: Bedcover (Pumpkin Blossom Quilt)\n",
      "Art image_id: b655327c-ff5b-e0bf-a373-a7d0ce428981\n",
      "Getting image from: https://www.artic.edu/iiif/2/b655327c-ff5b-e0bf-a373-a7d0ce428981/full/843,/0/default.jpg\n"
     ]
    },
    {
     "data": {
      "text/html": [
       "<img src=\"https://www.artic.edu/iiif/2/b655327c-ff5b-e0bf-a373-a7d0ce428981/full/843,/0/default.jpg\"/>"
      ],
      "text/plain": [
       "<IPython.core.display.Image object>"
      ]
     },
     "metadata": {},
     "output_type": "display_data"
    },
    {
     "name": "stdout",
     "output_type": "stream",
     "text": [
      "Art title: Pumpkins in the Sun, plate 29 from Méndez: 25 Prints\n",
      "Art image_id: 8c3fbade-abc6-5e6b-aaab-c96c2401bbd5\n",
      "Getting image from: https://www.artic.edu/iiif/2/8c3fbade-abc6-5e6b-aaab-c96c2401bbd5/full/843,/0/default.jpg\n"
     ]
    },
    {
     "data": {
      "text/html": [
       "<img src=\"https://www.artic.edu/iiif/2/8c3fbade-abc6-5e6b-aaab-c96c2401bbd5/full/843,/0/default.jpg\"/>"
      ],
      "text/plain": [
       "<IPython.core.display.Image object>"
      ]
     },
     "metadata": {},
     "output_type": "display_data"
    },
    {
     "name": "stdout",
     "output_type": "stream",
     "text": [
      "Art title: September and October From The Twelve Months of the Year (Fragment)\n",
      "Art image_id: 8eafaacd-c088-b452-b713-1612fe318984\n",
      "Getting image from: https://www.artic.edu/iiif/2/8eafaacd-c088-b452-b713-1612fe318984/full/843,/0/default.jpg\n"
     ]
    },
    {
     "data": {
      "text/html": [
       "<img src=\"https://www.artic.edu/iiif/2/8eafaacd-c088-b452-b713-1612fe318984/full/843,/0/default.jpg\"/>"
      ],
      "text/plain": [
       "<IPython.core.display.Image object>"
      ]
     },
     "metadata": {},
     "output_type": "display_data"
    },
    {
     "name": "stdout",
     "output_type": "stream",
     "text": [
      "Art title: Pumpkin\n",
      "Art image_id: 2afc6fc7-6689-e5b7-924f-e18a01e0dfd5\n",
      "Getting image from: https://www.artic.edu/iiif/2/2afc6fc7-6689-e5b7-924f-e18a01e0dfd5/full/843,/0/default.jpg\n"
     ]
    },
    {
     "data": {
      "text/html": [
       "<img src=\"https://www.artic.edu/iiif/2/2afc6fc7-6689-e5b7-924f-e18a01e0dfd5/full/843,/0/default.jpg\"/>"
      ],
      "text/plain": [
       "<IPython.core.display.Image object>"
      ]
     },
     "metadata": {},
     "output_type": "display_data"
    },
    {
     "name": "stdout",
     "output_type": "stream",
     "text": [
      "Art title: The Cigarette Seller, Pushkin Square, Moscow\n",
      "Art image_id: bdcdc4a9-ca98-94a9-97a2-d82984170649\n",
      "Getting image from: https://www.artic.edu/iiif/2/bdcdc4a9-ca98-94a9-97a2-d82984170649/full/843,/0/default.jpg\n"
     ]
    },
    {
     "data": {
      "text/html": [
       "<img src=\"https://www.artic.edu/iiif/2/bdcdc4a9-ca98-94a9-97a2-d82984170649/full/843,/0/default.jpg\"/>"
      ],
      "text/plain": [
       "<IPython.core.display.Image object>"
      ]
     },
     "metadata": {},
     "output_type": "display_data"
    }
   ],
   "source": [
    "import urllib.request, urllib.parse, urllib.error\n",
    "import json\n",
    "from IPython.display import Image, display\n",
    "\n",
    "serviceurl = 'https://api.artic.edu/api/v1/artworks' # Art Institute of Chicago API\n",
    "\n",
    "while True:\n",
    "    artwork_subject = input('Enter a subject: ')\n",
    "    if len(artwork_subject) < 1: break\n",
    "\n",
    "    url = serviceurl + '/search?' + urllib.parse.urlencode(\n",
    "        {'q': artwork_subject}) + '&fields=id,title,alt_text,image_id' # specify the fields we want back\n",
    "                                                            # We need at least the image_id to retrieve the image\n",
    "\n",
    "    print('Retrieving', url)\n",
    "    uh = urllib.request.urlopen(urllib.request.Request(url, headers={'User-Agent': 'Mozilla/5.0'}))\n",
    "    data = uh.read().decode()\n",
    "    print('Retrieved', len(data), 'characters')\n",
    "\n",
    "    try:\n",
    "        js = json.loads(data)\n",
    "    except:\n",
    "        js = None\n",
    "        \n",
    "    print(js)\n",
    "\n",
    "    # Comment out because it's kind of long   \n",
    "    #print(json.dumps(js, indent=4))\n",
    "    iiif_url=js['config']['iiif_url'] # Get the iiif_url from the js \n",
    "    print(\"Art iiif_url:\", iiif_url)\n",
    "    \n",
    "    # Within the returned js, the data are in a data subfield. Iterate through that\n",
    "    for image in js['data']:\n",
    "        print(\"Art title:\", image['title'])\n",
    "        print(\"Art image_id:\", image['image_id'])\n",
    "        #print(\"Art title:\", image['alt_text'])\n",
    "        image_url= iiif_url + '/' + image['image_id'] + '/full/843,/0/default.jpg' # construct the url for the image \n",
    "        print('Getting image from:', image_url) \n",
    "        display(Image(url=image_url)) # Get and display the image. \n",
    "        \n",
    "        \n"
   ]
  }
 ],
 "metadata": {
  "kernelspec": {
   "display_name": "UFRC Python-3.10",
   "language": "python",
   "name": "python3-3.10-ufrc"
  },
  "language_info": {
   "codemirror_mode": {
    "name": "ipython",
    "version": 3
   },
   "file_extension": ".py",
   "mimetype": "text/x-python",
   "name": "python",
   "nbconvert_exporter": "python",
   "pygments_lexer": "ipython3",
   "version": "3.10.5"
  }
 },
 "nbformat": 4,
 "nbformat_minor": 4
}
